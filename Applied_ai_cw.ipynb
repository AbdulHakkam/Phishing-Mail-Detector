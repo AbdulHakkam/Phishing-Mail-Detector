{
  "cells": [
    {
      "cell_type": "markdown",
      "metadata": {
        "id": "view-in-github",
        "colab_type": "text"
      },
      "source": [
        "<a href=\"https://colab.research.google.com/github/AbdulHakkam/Phishing-Mail-Detector/blob/main/Applied_ai_cw.ipynb\" target=\"_parent\"><img src=\"https://colab.research.google.com/assets/colab-badge.svg\" alt=\"Open In Colab\"/></a>"
      ]
    },
    {
      "cell_type": "markdown",
      "source": [
        "# Part A\n",
        "\n"
      ],
      "metadata": {
        "id": "hKVqjvyakzWB"
      }
    },
    {
      "cell_type": "markdown",
      "source": [
        "### Introduction\n",
        "\n",
        "### Text and E-mail and spam filtering\n",
        "Artificial Intelligence (AI) has been extensively applied to the domain of email and spam filtering, with deep learning being a key area of focus. These technologies have improved the efficiency and accuracy of spam detection systems, making them more effective in protecting users from unwanted emails.\n",
        "\n",
        "Deep learning techniques have been used for spam email detection. For instance, a study by AbdulNabi and Yaseen used deep learning techniques to enhance spam email detection(Kaddoura et al., 2022). Another research by Malhotra and Malik also utilised machine learning and deep learning techniques for spam email detection(Thakur et al., 2023).\n",
        "\n",
        " - Semantic and rule-based models have also been employed for spam filtering. An example is the work by Abiramasundari, which used a combination of semantic and rule-based models via supervised learning for spam filtering(Kaddoura et al., 2022).\n",
        "\n",
        " - Support Vector Machines (SVMs) have been used for spam detection on platforms like Twitter. The interaction patterns of users were identified and used to detect spam(Kaddoura et al., 2022).\n",
        "\n",
        " - Convolutional Neural Networks (CNNs) and Long Short-Term Memory (LSTM) networks have been used for spam email detection. For example, a study by Nooraee and Ghaffari used a deep learning approach to optimize and improve spam email detection(Thakur et al., 2023).\n",
        "\n",
        "A systematic review by Thakur et al. provides a comprehensive overview of deep-learning-based phishing email detection. They found that Convolutional Neural Networks (CNN) and LSTM achieved high accuracy rates in detecting phishing emails (Thakur et al., 2023).\n",
        "\n",
        "Despite these advancements, challenges remain. Modern phishing techniques often require sophisticated AI techniques that can analyze complex email patterns and structures. Moreover, the effectiveness of these techniques can vary depending on the language used in the emails, as many techniques are currently limited to one language (Thakur et al., 2023).\n",
        "\n",
        "AI is also being used to power spam-prevention technology. Today, Google uses TensorFlow to block 100 million spam emails a day. Machine learning means that there’s a transition from pattern recognition in spam emails to self-learning and optimizing systems (AI and spam filtering: How AI will help fight Email Spam, 2021).\n",
        "\n",
        "AI-powered tools detect and filter spam in a variety of ways. Machine learning approaches such as Neural Networks, Nave Bayesian classification, k-nearest neighbour (kNN), and others are used in keyword and content-based filtering to assess keywords, phrases, and their distribution and frequency, and to create rules to filter spam emails. Similarity-based filtering employs kNN to classify emails based on their similarity to previously stored emails. Based on training data extracted from sample emails, sample-based filtering trains machine learning algorithms to detect new emails as spam or not. Adaptive email spam filtering divides spam emails into groups, each represented by a token or representative text, and compares incoming emails to these tokens or representative text to determine whether they are spam or not. (AI and spam filtering: How AI will help fight Email Spam, 2021).\n",
        "\n",
        "AI could accidentally misattribute secure emails as unsafe or vice versa. For example, harmful spam or phishing emails often strive to copycat or exploit credentials from reliable and familiar email structures and senders. Though some AI spam filters can notify recipients when they block a potential threat, eventually, AI will work more with human analysts to seek additional input(Kaddoura et al., 2022).\n",
        "\n",
        "Natural language processing (NLP) refinement could improve the accuracy with which spam email content is assessed. Word vectors will be considered by AI that uses advanced NLP to filter out generic keywords and phrases. By programming mathematical connections between words, AI systems will be able to scan written content for intentions and connotations, uncovering more links to potentially harmful representations from the internet's historical data.(Kaddoura et al., 2022).\n",
        "\n",
        "In conclusion, AI plays a crucial role in the field of email and spam filtering. It has helped in improving the efficiency and accuracy of spam detection systems, making them more effective in protecting users from unwanted emails\n"
      ],
      "metadata": {
        "id": "pS2EM1HDW8SV"
      }
    },
    {
      "cell_type": "markdown",
      "source": [
        "# Part B"
      ],
      "metadata": {
        "id": "k6U44XTDk3pQ"
      }
    },
    {
      "cell_type": "markdown",
      "source": [
        "### Neural Networks\n",
        "\n",
        "####Advantages\n",
        "\n",
        "* High accuracy - Experiments with different datasets and model configurations have shown that neural networks, particularly deep learning models like Convolutional Neural Networks (CNNs), have high accuracy in detecting phishing emails.\n",
        "* Pattern Recognition - Neural networks are adept at recognizing complex patterns, which is critical in distinguishing between legitimate and phishing emails.\n",
        "\n",
        "* Adaptability - If trained on up-to-date datasets, these models can adapt to new and evolving phishing strategies.\n",
        "* Automated Feature Extraction - Deep learning models, particularly CNNs, can extract features automatically, reducing the need for manual feature engineering.(Yang et al., 2021; Mughaid et al., 2022)\n",
        "\n",
        "####Disadvantages\n",
        "\n",
        "\n",
        "* Data Requirements - The accuracy and effectiveness of neural networks are heavily reliant on the availability of large and diverse datasets. Obtaining such datasets can be difficult and may introduce biases.\n",
        "* Difficult to Interpret Decision-Making - Neural networks, particularly deep models, can behave as \"black boxes,\" making it difficult to interpret their decision-making processes. This lack of transparency can be troublesome in security applications where understanding the reasoning behind a decision is critical.\n",
        "\n",
        "* Intensity of Resources - Training neural networks can be computationally intensive, necessitating significant hardware resources that may not be available to all organizations.\n",
        "* Overfitting Risks -  There is a risk that neural networks may overfit the training data, leading to poor generalization to new, unseen phishing emails. (Yang et al., 2021; Mughaid et al., 2022)\n",
        "\n",
        "\n",
        "####Application\n",
        "\n",
        "Because of their adaptability and pattern recognition abilities, neural networks provide powerful capabilities for detecting phishing emails. Challenges such as data dependency, complexity, and resource intensity, on the other hand, must be addressed. The use of ensemble methods,LSTM models and improved CNN architectures has been shown to improve neural network performance in accurately detecting phishing attempts."
      ],
      "metadata": {
        "id": "abLIn54ak2fP"
      }
    },
    {
      "cell_type": "markdown",
      "source": [
        "\n",
        "\n",
        "### Support Vector Machine (SVM)\n",
        "\n",
        "####Advantages\n",
        "\n",
        "\n",
        "*   High Accuracy - SVMs can achieve high accuracy in phishing detection tasks by locating the optimal hyperplane that distinguishes legitimate emails from phishing emails.\n",
        "*   Effective in High-Dimensional Spaces - SVMs perform well even when the number of features exceeds the number of samples, which is useful in phishing detection where many features (e.g., URL characteristics, email text patterns) may be considered.\n",
        "\n",
        "*   Versatility - SVMs are versatile and capable of modeling complex relationships between features in phishing emails due to their ability to select an appropriate kernel function.\n",
        "*   Generalization - The ability to select an appropriate kernel function makes SVMs versatile and capable of modeling complex relationships between features in phishing emails. (Nmachi and Win, 2021)\n",
        "\n",
        "\n",
        "####Disadvantages\n",
        "\n",
        "\n",
        "*  Computational Intensity - Training an SVM can be computationally demanding, especially when working with large datasets, as is common in phishing detection.\n",
        "*  Parameter Selection - The performance of an SVM is highly dependent on the selection of the kernel and its parameters, which can be a time-consuming process requiring expertise\n",
        "\n",
        "*  Limited Scalability - SVMs can struggle to scale efficiently to very large datasets due to their quadratic complexity in the number of samples\n",
        "*  Interpretability - Because of their quadratic complexity in the number of samples, SVMs can struggle to scale efficiently to very large datasets.\n",
        "\n",
        "\n",
        "####Application\n",
        "\n",
        "SVMs have been used in conjunction with stylometric analysis to detect spear-phishing emails. This approach builds probabilistic models based on email metadata and stylometric features using natural language processing. The results have shown detection accuracy of 95.05% using the Enron email dataset, Ms combined with feature selection techniques can improve the detection of phishing attacks by focusing on the most relevant features and reducing the dimensionality of the dataset"
      ],
      "metadata": {
        "id": "xEe3a799685j"
      }
    },
    {
      "cell_type": "markdown",
      "source": [
        "### Bayesian Networks\n",
        "\n",
        "####Advantages\n",
        "\n",
        "\n",
        "\n",
        "*   Handles Uncertainty and Incomplete Data -  Bayesian Networks are well-suited for uncertain situations because they can make reliable predictions even with incomplete data, which is common in email datasets.\n",
        "*   Visualizes Complex Relationships -  hey provide a clear visualization of the relationships between different factors within an email that could indicate a phishing attempt\n",
        "\n",
        "*   Supports Causal Reasoning -  BNs are useful for understanding causal relationships, which can be beneficial in determining why an email is classified as phishing\n",
        "*   Enables Efficient Computation - They can simplify complex computations, which can be advantageous when processing large volumes of email data\n",
        "\n",
        "\n",
        "####Disadvantages\n",
        "\n",
        "\n",
        "*   Complex to Understand and Use - Bayesian Networks' intricate structure and the probabilistic reasoning required can make them difficult to understand and apply effectively.\n",
        "*   Requires Extensive Data - Accurate modeling with BNs demands a significant amount of data, which might not always be readily available\n",
        "\n",
        "*   Assumes Variable Independence - Bayesian Networks operate under the assumption that variables are independent, which may not always be true, particularly in the context of email data, where variables can be interdependent.\n",
        "*   Difficulties in Parameter Learning - Learning the network's parameters and structure requires complex computations, which can be difficult.\n",
        "\n",
        "(Advantages and Disadvantages of Bayesian Networks, no date)\n",
        "\n",
        "####Application\n",
        "\n",
        "Bayesian Networks have been used to predict the likelihood of a phishing email based on factors such as the presence of specific keywords, sender reputation, and URL characteristics. The ability of BNs to update their beliefs in light of new evidence makes them ideal for the dynamic nature of phishing, where attackers constantly change their strategies.\n",
        "\n",
        "\n"
      ],
      "metadata": {
        "id": "8jW_wsh2uTNB"
      }
    },
    {
      "cell_type": "markdown",
      "source": [
        "# Part C - LSTM\n"
      ],
      "metadata": {
        "id": "3y-i27Auk4in"
      }
    },
    {
      "cell_type": "code",
      "execution_count": null,
      "metadata": {
        "id": "fT-c_3PeJ-Qk",
        "outputId": "979d166d-5518-4fe7-fe31-84ac022dd15c"
      },
      "outputs": [
        {
          "name": "stderr",
          "output_type": "stream",
          "text": [
            "c:\\Users\\Abdul Hakkam\\anaconda3\\lib\\site-packages\\scipy\\__init__.py:146: UserWarning: A NumPy version >=1.16.5 and <1.23.0 is required for this version of SciPy (detected version 1.26.2\n",
            "  warnings.warn(f\"A NumPy version >={np_minversion} and <{np_maxversion}\"\n"
          ]
        },
        {
          "name": "stdout",
          "output_type": "stream",
          "text": [
            "WARNING:tensorflow:From c:\\Users\\Abdul Hakkam\\anaconda3\\lib\\site-packages\\keras\\src\\losses.py:2976: The name tf.losses.sparse_softmax_cross_entropy is deprecated. Please use tf.compat.v1.losses.sparse_softmax_cross_entropy instead.\n",
            "\n"
          ]
        }
      ],
      "source": [
        "import numpy as np\n",
        "import pandas as pd\n",
        "import matplotlib.pyplot as plt\n",
        "import tensorflow as tf"
      ]
    },
    {
      "cell_type": "code",
      "execution_count": null,
      "metadata": {
        "id": "0-FMnv0UYlbv"
      },
      "outputs": [],
      "source": [
        "df = pd.read_csv(\"Phishing_Email.csv\", encoding='utf-8')"
      ]
    },
    {
      "cell_type": "code",
      "execution_count": null,
      "metadata": {
        "colab": {
          "base_uri": "https://localhost:8080/"
        },
        "id": "hA5gGZ87KBk3",
        "outputId": "ea78fc49-a91d-4f50-e615-e5edbae8f1a4"
      },
      "outputs": [
        {
          "name": "stdout",
          "output_type": "stream",
          "text": [
            "Unnamed: 0    0\n",
            "Email Text    0\n",
            "Email Type    0\n",
            "dtype: int64\n"
          ]
        }
      ],
      "source": [
        "df = df.dropna()\n",
        "print(df.isna().sum())"
      ]
    },
    {
      "cell_type": "code",
      "execution_count": null,
      "metadata": {
        "colab": {
          "base_uri": "https://localhost:8080/",
          "height": 206
        },
        "id": "JN5aCf_PKITR",
        "outputId": "30486635-22f4-490b-8a38-9c571304a152"
      },
      "outputs": [
        {
          "data": {
            "text/html": [
              "<div>\n",
              "<style scoped>\n",
              "    .dataframe tbody tr th:only-of-type {\n",
              "        vertical-align: middle;\n",
              "    }\n",
              "\n",
              "    .dataframe tbody tr th {\n",
              "        vertical-align: top;\n",
              "    }\n",
              "\n",
              "    .dataframe thead th {\n",
              "        text-align: right;\n",
              "    }\n",
              "</style>\n",
              "<table border=\"1\" class=\"dataframe\">\n",
              "  <thead>\n",
              "    <tr style=\"text-align: right;\">\n",
              "      <th></th>\n",
              "      <th>Unnamed: 0</th>\n",
              "      <th>Email Text</th>\n",
              "      <th>Email Type</th>\n",
              "    </tr>\n",
              "  </thead>\n",
              "  <tbody>\n",
              "    <tr>\n",
              "      <th>0</th>\n",
              "      <td>0</td>\n",
              "      <td>re : 6 . 1100 , disc : uniformitarianism , re ...</td>\n",
              "      <td>Safe Email</td>\n",
              "    </tr>\n",
              "    <tr>\n",
              "      <th>1</th>\n",
              "      <td>1</td>\n",
              "      <td>the other side of * galicismos * * galicismo *...</td>\n",
              "      <td>Safe Email</td>\n",
              "    </tr>\n",
              "    <tr>\n",
              "      <th>2</th>\n",
              "      <td>2</td>\n",
              "      <td>re : equistar deal tickets are you still avail...</td>\n",
              "      <td>Safe Email</td>\n",
              "    </tr>\n",
              "    <tr>\n",
              "      <th>3</th>\n",
              "      <td>3</td>\n",
              "      <td>\\nHello I am your hot lil horny toy.\\n    I am...</td>\n",
              "      <td>Phishing Email</td>\n",
              "    </tr>\n",
              "    <tr>\n",
              "      <th>4</th>\n",
              "      <td>4</td>\n",
              "      <td>software at incredibly low prices ( 86 % lower...</td>\n",
              "      <td>Phishing Email</td>\n",
              "    </tr>\n",
              "  </tbody>\n",
              "</table>\n",
              "</div>"
            ],
            "text/plain": [
              "   Unnamed: 0                                         Email Text  \\\n",
              "0           0  re : 6 . 1100 , disc : uniformitarianism , re ...   \n",
              "1           1  the other side of * galicismos * * galicismo *...   \n",
              "2           2  re : equistar deal tickets are you still avail...   \n",
              "3           3  \\nHello I am your hot lil horny toy.\\n    I am...   \n",
              "4           4  software at incredibly low prices ( 86 % lower...   \n",
              "\n",
              "       Email Type  \n",
              "0      Safe Email  \n",
              "1      Safe Email  \n",
              "2      Safe Email  \n",
              "3  Phishing Email  \n",
              "4  Phishing Email  "
            ]
          },
          "execution_count": 4,
          "metadata": {},
          "output_type": "execute_result"
        }
      ],
      "source": [
        "df.head()"
      ]
    },
    {
      "cell_type": "code",
      "execution_count": null,
      "metadata": {
        "id": "8_XP7GxgKK5f"
      },
      "outputs": [],
      "source": [
        "df[\"label\"] = (df[\"Email Type\"] == \"Safe Email\").astype(int)\n",
        "df[\"text\"] = df[\"Email Text\"]"
      ]
    },
    {
      "cell_type": "markdown",
      "metadata": {
        "id": "Tatu9HALXgQQ"
      },
      "source": []
    },
    {
      "cell_type": "code",
      "execution_count": null,
      "metadata": {
        "id": "YX4XMzkGKz2i"
      },
      "outputs": [],
      "source": [
        "df = df[['text','label']]"
      ]
    },
    {
      "cell_type": "code",
      "execution_count": null,
      "metadata": {
        "colab": {
          "base_uri": "https://localhost:8080/",
          "height": 206
        },
        "id": "7oGJN2MEZsEG",
        "outputId": "d20d1522-287f-479a-f9a7-1956ba0aeb7b"
      },
      "outputs": [
        {
          "data": {
            "text/html": [
              "<div>\n",
              "<style scoped>\n",
              "    .dataframe tbody tr th:only-of-type {\n",
              "        vertical-align: middle;\n",
              "    }\n",
              "\n",
              "    .dataframe tbody tr th {\n",
              "        vertical-align: top;\n",
              "    }\n",
              "\n",
              "    .dataframe thead th {\n",
              "        text-align: right;\n",
              "    }\n",
              "</style>\n",
              "<table border=\"1\" class=\"dataframe\">\n",
              "  <thead>\n",
              "    <tr style=\"text-align: right;\">\n",
              "      <th></th>\n",
              "      <th>text</th>\n",
              "      <th>label</th>\n",
              "    </tr>\n",
              "  </thead>\n",
              "  <tbody>\n",
              "    <tr>\n",
              "      <th>0</th>\n",
              "      <td>re : 6 . 1100 , disc : uniformitarianism , re ...</td>\n",
              "      <td>1</td>\n",
              "    </tr>\n",
              "    <tr>\n",
              "      <th>1</th>\n",
              "      <td>the other side of * galicismos * * galicismo *...</td>\n",
              "      <td>1</td>\n",
              "    </tr>\n",
              "    <tr>\n",
              "      <th>2</th>\n",
              "      <td>re : equistar deal tickets are you still avail...</td>\n",
              "      <td>1</td>\n",
              "    </tr>\n",
              "    <tr>\n",
              "      <th>3</th>\n",
              "      <td>\\nHello I am your hot lil horny toy.\\n    I am...</td>\n",
              "      <td>0</td>\n",
              "    </tr>\n",
              "    <tr>\n",
              "      <th>4</th>\n",
              "      <td>software at incredibly low prices ( 86 % lower...</td>\n",
              "      <td>0</td>\n",
              "    </tr>\n",
              "  </tbody>\n",
              "</table>\n",
              "</div>"
            ],
            "text/plain": [
              "                                                text  label\n",
              "0  re : 6 . 1100 , disc : uniformitarianism , re ...      1\n",
              "1  the other side of * galicismos * * galicismo *...      1\n",
              "2  re : equistar deal tickets are you still avail...      1\n",
              "3  \\nHello I am your hot lil horny toy.\\n    I am...      0\n",
              "4  software at incredibly low prices ( 86 % lower...      0"
            ]
          },
          "execution_count": 7,
          "metadata": {},
          "output_type": "execute_result"
        }
      ],
      "source": [
        "df.head()"
      ]
    },
    {
      "cell_type": "code",
      "execution_count": null,
      "metadata": {
        "id": "JLnP3d1_Qq4M"
      },
      "outputs": [],
      "source": [
        "df = df[df['text'].apply(lambda x: isinstance(x, str) and len(x) >= 5 and len(x)<=2900)]"
      ]
    },
    {
      "cell_type": "code",
      "execution_count": null,
      "metadata": {
        "colab": {
          "base_uri": "https://localhost:8080/"
        },
        "id": "pBOXE9cVSBXU",
        "outputId": "c978f14d-d7f1-451c-b54f-07ae11f261dd"
      },
      "outputs": [
        {
          "data": {
            "text/plain": [
              "(15858, 2)"
            ]
          },
          "execution_count": 9,
          "metadata": {},
          "output_type": "execute_result"
        }
      ],
      "source": [
        "df.shape"
      ]
    },
    {
      "cell_type": "code",
      "execution_count": null,
      "metadata": {
        "id": "WjAKugC-K464"
      },
      "outputs": [],
      "source": [
        "train, val, test = np.split(df.sample(frac=1), [int(0.8*len(df)), int(0.9*len(df))])"
      ]
    },
    {
      "cell_type": "code",
      "execution_count": null,
      "metadata": {
        "colab": {
          "base_uri": "https://localhost:8080/"
        },
        "id": "El_qPhF0QEe0",
        "outputId": "a1a80ec1-f71e-4f6b-a29b-89b6d36285ee"
      },
      "outputs": [
        {
          "data": {
            "text/plain": [
              "(12686, 2)"
            ]
          },
          "execution_count": 11,
          "metadata": {},
          "output_type": "execute_result"
        }
      ],
      "source": [
        "train.shape"
      ]
    },
    {
      "cell_type": "code",
      "execution_count": null,
      "metadata": {
        "id": "p-SqEk50LJmQ"
      },
      "outputs": [],
      "source": [
        "def df_to_dataset(dataframe, shuffle=True, batch_size=1024):\n",
        "  df = dataframe.copy()\n",
        "  labels = df.pop('label')\n",
        "  df = df[\"text\"]\n",
        "  ds = tf.data.Dataset.from_tensor_slices((df, labels))\n",
        "  if shuffle:\n",
        "    ds = ds.shuffle(buffer_size=len(dataframe))\n",
        "  ds = ds.batch(batch_size)\n",
        "  ds = ds.prefetch(tf.data.AUTOTUNE)\n",
        "  return ds"
      ]
    },
    {
      "cell_type": "code",
      "execution_count": null,
      "metadata": {
        "id": "OzCciC8OLOUw"
      },
      "outputs": [],
      "source": [
        "train_data = df_to_dataset(train)\n",
        "valid_data = df_to_dataset(val)\n",
        "test_data = df_to_dataset(test)"
      ]
    },
    {
      "cell_type": "code",
      "execution_count": null,
      "metadata": {
        "colab": {
          "base_uri": "https://localhost:8080/"
        },
        "id": "5jrhDtY0O3Pd",
        "outputId": "b8c01f0f-b6c2-4961-d666-31a2d2efcddc"
      },
      "outputs": [
        {
          "name": "stdout",
          "output_type": "stream",
          "text": [
            "<_PrefetchDataset element_spec=(TensorSpec(shape=(None,), dtype=tf.string, name=None), TensorSpec(shape=(None,), dtype=tf.int32, name=None))>\n"
          ]
        }
      ],
      "source": [
        "print(train_data)"
      ]
    },
    {
      "cell_type": "code",
      "execution_count": null,
      "metadata": {
        "id": "psklteALLQGP",
        "outputId": "9426c545-0a99-44c9-bda7-819f8f8c0731"
      },
      "outputs": [
        {
          "name": "stdout",
          "output_type": "stream",
          "text": [
            "WARNING:tensorflow:From c:\\Users\\Abdul Hakkam\\anaconda3\\lib\\site-packages\\keras\\src\\backend.py:873: The name tf.get_default_graph is deprecated. Please use tf.compat.v1.get_default_graph instead.\n",
            "\n",
            "WARNING:tensorflow:From c:\\Users\\Abdul Hakkam\\anaconda3\\lib\\site-packages\\keras\\src\\utils\\tf_utils.py:492: The name tf.ragged.RaggedTensorValue is deprecated. Please use tf.compat.v1.ragged.RaggedTensorValue instead.\n",
            "\n"
          ]
        }
      ],
      "source": [
        "encoder = tf.keras.layers.TextVectorization(max_tokens=3000)\n",
        "encoder.adapt(train_data.map(lambda text, label: text))"
      ]
    },
    {
      "cell_type": "markdown",
      "metadata": {
        "id": "wFNWCIO7_XSP"
      },
      "source": []
    },
    {
      "cell_type": "code",
      "execution_count": null,
      "metadata": {
        "colab": {
          "base_uri": "https://localhost:8080/"
        },
        "id": "LVXVIl2gLlJP",
        "outputId": "965e70ff-0317-4353-b4a9-c3c82b619bde"
      },
      "outputs": [
        {
          "data": {
            "text/plain": [
              "array(['', '[UNK]', 'the', 'to', 'and', 'of', 'a', 'you', 'in', 'for',\n",
              "       'is', 'i', 'on', 'this', 'your', 'that', 'be', 'it', 'with',\n",
              "       'have'], dtype='<U58')"
            ]
          },
          "execution_count": 16,
          "metadata": {},
          "output_type": "execute_result"
        }
      ],
      "source": [
        "vocab = np.array(encoder.get_vocabulary())\n",
        "vocab[:20]"
      ]
    },
    {
      "cell_type": "code",
      "execution_count": null,
      "metadata": {
        "id": "9tP4Q32GLv0_"
      },
      "outputs": [],
      "source": [
        "model = tf.keras.Sequential([\n",
        "    encoder,\n",
        "    tf.keras.layers.Embedding(\n",
        "        input_dim=len(encoder.get_vocabulary()),\n",
        "        output_dim=32,\n",
        "        mask_zero=True\n",
        "    ),\n",
        "    tf.keras.layers.LSTM(32),\n",
        "    tf.keras.layers.Dense(32, activation='relu'),\n",
        "    tf.keras.layers.Dense(32, activation='relu'),\n",
        "    tf.keras.layers.Dropout(0.4),\n",
        "    tf.keras.layers.Dense(1, activation='sigmoid')\n",
        "])"
      ]
    },
    {
      "cell_type": "code",
      "execution_count": null,
      "metadata": {
        "id": "v6gT-7LtLyco"
      },
      "outputs": [],
      "source": [
        "model.compile(optimizer=tf.keras.optimizers.Adam(learning_rate=0.001),\n",
        "              loss=tf.keras.losses.BinaryCrossentropy(),\n",
        "              metrics=['accuracy'])"
      ]
    },
    {
      "cell_type": "code",
      "execution_count": null,
      "metadata": {
        "colab": {
          "base_uri": "https://localhost:8080/"
        },
        "id": "pWIgLfhhL2Sf",
        "outputId": "3baa063e-be9f-41aa-e3e7-14e6c2d618e2"
      },
      "outputs": [
        {
          "name": "stdout",
          "output_type": "stream",
          "text": [
            "Epoch 1/6\n"
          ]
        },
        {
          "name": "stdout",
          "output_type": "stream",
          "text": [
            "WARNING:tensorflow:From c:\\Users\\Abdul Hakkam\\anaconda3\\lib\\site-packages\\keras\\src\\engine\\base_layer_utils.py:384: The name tf.executing_eagerly_outside_functions is deprecated. Please use tf.compat.v1.executing_eagerly_outside_functions instead.\n",
            "\n",
            "13/13 [==============================] - 56s 4s/step - loss: 0.6868 - accuracy: 0.5889 - val_loss: 0.6743 - val_accuracy: 0.6066\n",
            "Epoch 2/6\n",
            "13/13 [==============================] - 45s 3s/step - loss: 0.6612 - accuracy: 0.5998 - val_loss: 0.6244 - val_accuracy: 0.6066\n",
            "Epoch 3/6\n",
            "13/13 [==============================] - 53s 4s/step - loss: 0.5448 - accuracy: 0.6006 - val_loss: 0.4403 - val_accuracy: 0.6066\n",
            "Epoch 4/6\n",
            "13/13 [==============================] - 58s 4s/step - loss: 0.4028 - accuracy: 0.8524 - val_loss: 0.3521 - val_accuracy: 0.9130\n",
            "Epoch 5/6\n",
            "13/13 [==============================] - 52s 4s/step - loss: 0.3125 - accuracy: 0.9410 - val_loss: 0.2798 - val_accuracy: 0.9300\n",
            "Epoch 6/6\n",
            "13/13 [==============================] - 59s 5s/step - loss: 0.2276 - accuracy: 0.9607 - val_loss: 0.2013 - val_accuracy: 0.9521\n"
          ]
        }
      ],
      "source": [
        "history = model.fit(train_data, epochs=6, validation_data=valid_data)"
      ]
    },
    {
      "cell_type": "code",
      "execution_count": null,
      "metadata": {
        "colab": {
          "base_uri": "https://localhost:8080/"
        },
        "id": "yP0QyUxFlEZ3",
        "outputId": "6f62c8e2-6967-43b0-ad15-9e70b1dfbfbc"
      },
      "outputs": [
        {
          "name": "stdout",
          "output_type": "stream",
          "text": [
            "2/2 [==============================] - 2s 621ms/step - loss: 0.1786 - accuracy: 0.9622\n"
          ]
        },
        {
          "data": {
            "text/plain": [
              "[0.1786096692085266, 0.9621689915657043]"
            ]
          },
          "execution_count": 20,
          "metadata": {},
          "output_type": "execute_result"
        }
      ],
      "source": [
        "model.evaluate(test_data)"
      ]
    },
    {
      "cell_type": "code",
      "execution_count": null,
      "metadata": {
        "colab": {
          "base_uri": "https://localhost:8080/",
          "height": 449
        },
        "id": "WTnuBgsGlXFn",
        "outputId": "729850d4-ba13-4c70-9599-a25033e8a99a"
      },
      "outputs": [
        {
          "data": {
            "image/png": "[encoded data removed]",
            "text/plain": [
              "<Figure size 640x480 with 1 Axes>"
            ]
          },
          "metadata": {},
          "output_type": "display_data"
        }
      ],
      "source": [
        "plt.plot(history.history['accuracy'], label = \"Training accuracy\")\n",
        "plt.plot(history.history['val_accuracy'], label = \"Validation accuracy\")\n",
        "plt.ylabel(\"Accuracy\")\n",
        "plt.xlabel(\"Epoch\")\n",
        "plt.legend()\n",
        "plt.show()"
      ]
    },
    {
      "cell_type": "code",
      "execution_count": null,
      "metadata": {
        "colab": {
          "base_uri": "https://localhost:8080/"
        },
        "id": "PHSu8bRODI7c",
        "outputId": "3b871202-2c15-4243-d551-1e234ea3d21e"
      },
      "outputs": [
        {
          "name": "stdout",
          "output_type": "stream",
          "text": [
            "tf.Tensor(\n",
            "[b'This is a ttoally not a scam email'\n",
            " b\"I'm Hashini Wickrama Arachchi, a final year undergraduate reading for a BEng(Hons) in Software Engineering degree at Informatics Institute of Technology (IIT), affiliated with the University of Westminster, UK. This questionnaire is sent to you with the purpose of gathering requirements for my final year research project.\"], shape=(2,), dtype=string)\n",
            "1/1 [==============================] - 2s 2s/step\n",
            "[[0.36187422]\n",
            " [0.99920535]]\n"
          ]
        }
      ],
      "source": [
        "input_text = [\"This is a totally not a scam email\", \"I'm Abdul Hakkam, a final year undergraduate reading for a BEng(Hons) in Software Engineering degree at Informatics Institute of Technology (IIT), affiliated with the University of Westminster, UK. This questionnaire is sent to you with the purpose of gathering requirements for my final year research project.\"]\n",
        "\n",
        "input_data = tf.constant(input_text,dtype = tf.string)\n",
        "\n",
        "preprocessed_data = (input_data)\n",
        "print(preprocessed_data)\n",
        "predictions = model.predict(preprocessed_data)\n",
        "\n",
        "print(predictions)"
      ]
    },
    {
      "cell_type": "markdown",
      "source": [
        "# Part D - Testing\n"
      ],
      "metadata": {
        "id": "PLfBx9yQgCay"
      }
    },
    {
      "cell_type": "code",
      "source": [
        "# prompt: plot me a confusion matrix for the above results\n",
        "\n",
        "import numpy as np\n",
        "import pandas as pd\n",
        "import matplotlib.pyplot as plt\n",
        "from sklearn.metrics import confusion_matrix\n",
        "\n",
        "y_true = test_data.map(lambda text, label: label)\n",
        "y_pred = model.predict(test_data)\n",
        "cm = confusion_matrix(y_true, y_pred)\n",
        "\n",
        "plt.imshow(cm, interpolation='nearest', cmap=plt.cm.Blues)\n",
        "plt.colorbar()\n",
        "tick_marks = np.arange(2)\n",
        "plt.xticks(tick_marks, ['Safe Email', 'Phishing Email'])\n",
        "plt.yticks(tick_marks, ['Safe Email', 'Phishing Email'])\n",
        "plt.xlabel('Predicted')\n",
        "plt.ylabel('True')\n",
        "plt.title('Confusion Matrix')\n",
        "plt.show()\n"
      ],
      "metadata": {
        "id": "D4CiiORzlPu6"
      },
      "execution_count": null,
      "outputs": []
    },
    {
      "cell_type": "markdown",
      "source": [],
      "metadata": {
        "id": "FhUBeUmkgAlx"
      }
    }
  ],
  "metadata": {
    "accelerator": "GPU",
    "colab": {
      "gpuType": "T4",
      "provenance": [],
      "collapsed_sections": [
        "k6U44XTDk3pQ"
      ],
      "include_colab_link": true
    },
    "kernelspec": {
      "display_name": "Python 3 (ipykernel)",
      "language": "python",
      "name": "python3"
    },
    "language_info": {
      "codemirror_mode": {
        "name": "ipython",
        "version": 3
      },
      "file_extension": ".py",
      "mimetype": "text/x-python",
      "name": "python",
      "nbconvert_exporter": "python",
      "pygments_lexer": "ipython3",
      "version": "3.9.7"
    }
  },
  "nbformat": 4,
  "nbformat_minor": 0
}